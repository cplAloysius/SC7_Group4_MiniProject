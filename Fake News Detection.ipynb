{
 "cells": [
  {
   "cell_type": "code",
   "execution_count": 1,
   "id": "0a4f2791",
   "metadata": {},
   "outputs": [],
   "source": [
    "import pandas as pd\n",
    "import numpy as np\n",
    "from matplotlib import pyplot as plt\n",
    "import seaborn as sb\n",
    "import matplotlib.pyplot as plt\n",
    "\n",
    "from sklearn.feature_extraction.text import CountVectorizer\n",
    "from sklearn.feature_extraction.text import TfidfVectorizer\n",
    "from sklearn.feature_extraction import DictVectorizer\n",
    "from sklearn.preprocessing import OneHotEncoder\n",
    "\n",
    "from nltk.corpus import stopwords\n",
    "from nltk.corpus import words\n",
    "from nltk.corpus import wordnet\n",
    "from nltk.stem import PorterStemmer\n",
    "from nltk.stem import WordNetLemmatizer\n",
    "from nltk.tokenize import word_tokenize\n",
    "import nltk\n",
    "# uncomment if required\n",
    "# nltk.download('stopwords')\n",
    "# nltk.download('punkt')\n",
    "# nltk.download('words')\n",
    "# nltk.download('wordnet')"
   ]
  },
  {
   "cell_type": "code",
   "execution_count": 2,
   "id": "7ca46606",
   "metadata": {},
   "outputs": [],
   "source": [
    "df = pd.read_csv('fake.csv')"
   ]
  },
  {
   "cell_type": "code",
   "execution_count": 3,
   "id": "7fb8d427",
   "metadata": {},
   "outputs": [],
   "source": [
    "#Create a new column 'post_engagement' which is the sum of the 'likes', 'comments', and 'shares' columns\n",
    "\n",
    "sum_list = ['likes', 'comments', 'shares']\n",
    "df['post_engagement'] = df[sum_list].sum(axis=1)"
   ]
  },
  {
   "cell_type": "code",
   "execution_count": 4,
   "id": "b74cd380",
   "metadata": {},
   "outputs": [
    {
     "data": {
      "text/plain": [
       "uuid                     0\n",
       "ord_in_thread            0\n",
       "author                2424\n",
       "published                0\n",
       "title                  680\n",
       "text                    46\n",
       "language                 0\n",
       "crawled                  0\n",
       "site_url                 0\n",
       "country                176\n",
       "domain_rank           4223\n",
       "thread_title            12\n",
       "spam_score               0\n",
       "main_img_url          3643\n",
       "replies_count            0\n",
       "participants_count       0\n",
       "likes                    0\n",
       "comments                 0\n",
       "shares                   0\n",
       "type                     0\n",
       "post_engagement          0\n",
       "dtype: int64"
      ]
     },
     "execution_count": 4,
     "metadata": {},
     "output_type": "execute_result"
    }
   ],
   "source": [
    "#Checking how many null entries in each column\n",
    "\n",
    "df.isnull().sum()"
   ]
  },
  {
   "cell_type": "code",
   "execution_count": 5,
   "id": "1271bd9e",
   "metadata": {},
   "outputs": [
    {
     "data": {
      "text/plain": [
       "US    10367\n",
       "GB      831\n",
       "RU      400\n",
       "DE      224\n",
       "FR      207\n",
       "TV      201\n",
       "EU      112\n",
       "CA      103\n",
       "IS      100\n",
       "ES      100\n",
       "NL       55\n",
       "ME       34\n",
       "IN       23\n",
       "BG       19\n",
       "CO       17\n",
       "LI       10\n",
       "IR        7\n",
       "EE        4\n",
       "ZA        3\n",
       "SG        2\n",
       "IO        1\n",
       "SE        1\n",
       "AU        1\n",
       "CH        1\n",
       "Name: country, dtype: int64"
      ]
     },
     "execution_count": 5,
     "metadata": {},
     "output_type": "execute_result"
    }
   ],
   "source": [
    "#Zooming in on \"country\" column, \"US\" is the most common entry\n",
    "\n",
    "df.country.value_counts()"
   ]
  },
  {
   "cell_type": "code",
   "execution_count": 6,
   "id": "483a87d7",
   "metadata": {},
   "outputs": [],
   "source": [
    "#Filling null entries in \"country\" column with \"US\" as it is the most common\n",
    "\n",
    "df.country.fillna(\"US\", inplace=True)"
   ]
  },
  {
   "cell_type": "code",
   "execution_count": 7,
   "id": "541863b5",
   "metadata": {},
   "outputs": [],
   "source": [
    "#Remove countries that have less than 20 entries\n",
    "\n",
    "value_counts = df.country.value_counts()\n",
    "to_remove = value_counts[value_counts<20].index\n",
    "df.replace(to_remove, np.nan, inplace = True)"
   ]
  },
  {
   "cell_type": "code",
   "execution_count": 8,
   "id": "9454d638",
   "metadata": {},
   "outputs": [
    {
     "data": {
      "text/plain": [
       "english       12403\n",
       "russian         203\n",
       "spanish         172\n",
       "german          111\n",
       "french           38\n",
       "arabic           22\n",
       "portuguese       11\n",
       "turkish          10\n",
       "italian           9\n",
       "ignore            7\n",
       "greek             4\n",
       "dutch             3\n",
       "norwegian         3\n",
       "finnish           1\n",
       "chinese           1\n",
       "polish            1\n",
       "Name: language, dtype: int64"
      ]
     },
     "execution_count": 8,
     "metadata": {},
     "output_type": "execute_result"
    }
   ],
   "source": [
    "df.language.value_counts()"
   ]
  },
  {
   "cell_type": "code",
   "execution_count": 9,
   "id": "ad97548d",
   "metadata": {},
   "outputs": [],
   "source": [
    "#Remove all non-english entries as there are too few\n",
    "\n",
    "df = df[df.language == 'english']"
   ]
  },
  {
   "cell_type": "code",
   "execution_count": 10,
   "id": "64355c06",
   "metadata": {},
   "outputs": [],
   "source": [
    "#Dropping columns that will not be used\n",
    "\n",
    "df = df.drop(['uuid', 'language', 'likes', 'comments', 'shares', 'crawled', 'published', 'ord_in_thread', 'domain_rank', 'main_img_url', 'thread_title'], axis = 1)"
   ]
  },
  {
   "cell_type": "code",
   "execution_count": 11,
   "id": "16561c74",
   "metadata": {},
   "outputs": [],
   "source": [
    "#Removing rows with missing values\n",
    "\n",
    "df = df.dropna()"
   ]
  },
  {
   "cell_type": "code",
   "execution_count": 12,
   "id": "45a2ba38",
   "metadata": {},
   "outputs": [
    {
     "data": {
      "text/plain": [
       "<AxesSubplot:>"
      ]
     },
     "execution_count": 12,
     "metadata": {},
     "output_type": "execute_result"
    },
    {
     "data": {
      "image/png": "[encoded data removed]",
      "text/plain": [
       "<Figure size 1728x432 with 3 Axes>"
      ]
     },
     "metadata": {
      "needs_background": "light"
     },
     "output_type": "display_data"
    }
   ],
   "source": [
    "#Too many 0s for spam_score\n",
    "\n",
    "f, axes = plt.subplots(1, 3, figsize=(24, 6))\n",
    "sb.boxplot(data = df.spam_score, orient = \"h\", ax = axes[0])\n",
    "sb.histplot(data = df.spam_score, ax = axes[1])\n",
    "sb.violinplot(data = df.spam_score, orient = \"h\", ax = axes[2])"
   ]
  },
  {
   "cell_type": "code",
   "execution_count": 13,
   "id": "3f14dc0b",
   "metadata": {},
   "outputs": [],
   "source": [
    "#Remove 0 rows in spam_score to eliminate skewness (considering if we should remove the 0s?)\n",
    "\n",
    "#df = df[df.spam_score != 0]\n",
    "spam = pd.DataFrame(df['spam_score'])"
   ]
  },
  {
   "cell_type": "code",
   "execution_count": 14,
   "id": "5230fc05",
   "metadata": {},
   "outputs": [
    {
     "data": {
      "text/plain": [
       "<AxesSubplot:>"
      ]
     },
     "execution_count": 14,
     "metadata": {},
     "output_type": "execute_result"
    },
    {
     "data": {
      "image/png": "[encoded data removed]",
      "text/plain": [
       "<Figure size 1728x432 with 3 Axes>"
      ]
     },
     "metadata": {
      "needs_background": "light"
     },
     "output_type": "display_data"
    }
   ],
   "source": [
    "f, axes = plt.subplots(1, 3, figsize=(24, 6))\n",
    "sb.boxplot(data = spam, orient = \"h\", ax = axes[0])\n",
    "sb.histplot(data = spam, ax = axes[1])\n",
    "sb.violinplot(data = spam, orient = \"h\", ax = axes[2])"
   ]
  },
  {
   "cell_type": "code",
   "execution_count": 15,
   "id": "94e5aa65",
   "metadata": {},
   "outputs": [],
   "source": [
    "#Converting values of spam_score from numeric to categorical where \n",
    "#spam_score <= 0.3 is changed to 'low'\n",
    "#0.3 < spam_score <= 0.6 is changed to 'medium'\n",
    "#spam_score > 0.6 is changed to 'high'\n",
    "\n",
    "df.loc[(df.spam_score <= 0.3) & (df.spam_score > 0), 'spam_score'] = 0.3\n",
    "df.loc[(df.spam_score > 0.3) & (df.spam_score <= 0.6), 'spam_score'] = 0.6\n",
    "df.loc[(df.spam_score > 0.6), 'spam_score'] = 1\n",
    "\n",
    "df.loc[(df.spam_score == 0), 'spam_score'] = 'zero'\n",
    "df.loc[(df.spam_score == 0.3), 'spam_score'] = 'low'\n",
    "df.loc[(df.spam_score == 0.6), 'spam_score'] = 'medium'\n",
    "df.loc[(df.spam_score == 1), 'spam_score'] = 'high'"
   ]
  },
  {
   "cell_type": "code",
   "execution_count": 16,
   "id": "aea9aa7d",
   "metadata": {},
   "outputs": [],
   "source": [
    "spam = pd.DataFrame(df['spam_score'])"
   ]
  },
  {
   "cell_type": "code",
   "execution_count": 17,
   "id": "4f6ddf2e",
   "metadata": {},
   "outputs": [
    {
     "data": {
      "text/plain": [
       "<seaborn.axisgrid.FacetGrid at 0x7fc085955b20>"
      ]
     },
     "execution_count": 17,
     "metadata": {},
     "output_type": "execute_result"
    },
    {
     "data": {
      "image/png": "[encoded data removed]",
      "text/plain": [
       "<Figure size 360x360 with 1 Axes>"
      ]
     },
     "metadata": {
      "needs_background": "light"
     },
     "output_type": "display_data"
    }
   ],
   "source": [
    "sb.catplot(y = \"spam_score\", data = spam, kind = \"count\")"
   ]
  },
  {
   "cell_type": "code",
   "execution_count": 18,
   "id": "4202e517",
   "metadata": {},
   "outputs": [],
   "source": [
    "#stop_words are the words that we ignore\n",
    " \n",
    "stop_words = stopwords.words(\"english\")\n",
    "\n",
    "#function to tokenize text and remove stopwords, punctuations, non ascii characters\n",
    "\n",
    "def stemmer(txt):\n",
    "    txt=txt.lower()\n",
    "    words = word_tokenize(txt)\n",
    "    words = [w for w in words if w.isalpha()]\n",
    "    words = [w for w in words if not w in stop_words]\n",
    "    words = [w for w in words if w.isascii()]\n",
    "    return( \" \".join(words ))"
   ]
  },
  {
   "cell_type": "code",
   "execution_count": 19,
   "id": "49852a4e",
   "metadata": {},
   "outputs": [],
   "source": [
    "df[\"title\"] = df[\"title\"].apply(stemmer)\n",
    "# df[\"text\"] = df[\"text\"].apply(stemmer)"
   ]
  },
  {
   "cell_type": "code",
   "execution_count": 20,
   "id": "1d58118e",
   "metadata": {},
   "outputs": [
    {
     "name": "stdout",
     "output_type": "stream",
     "text": [
      "zvezda : 12092\n",
      "zumwalt : 12091\n",
      "zulu : 12090\n",
      "zulema : 12089\n",
      "zuesse : 12088\n",
      "zuckerberg : 12087\n",
      "ztech : 12086\n",
      "zones : 12085\n",
      "zone : 12084\n",
      "zombies : 12083\n"
     ]
    }
   ],
   "source": [
    "txt = df[\"title\"].tolist()\n",
    "vectorizer = TfidfVectorizer()\n",
    "vectorizer.fit(txt)\n",
    "\n",
    "# dictionary of all the words in title can use to analyse with bar chart with high spam score\n",
    "# https://stackoverflow.com/questions/16010869/plot-a-bar-using-matplotlib-using-a-dictionary\n",
    "\n",
    "mydict = vectorizer.vocabulary_\n",
    "\n",
    "# to see count of \"muslims\"\n",
    "# print(\"Count of 'muslims' in titles:\", mydict[\"muslims\"])\n",
    "\n",
    "# to get top N most common words\n",
    "import operator\n",
    "mydict = dict( sorted(mydict.items(), key=operator.itemgetter(1),reverse=True))\n",
    "\n",
    "n = 10\n",
    "\n",
    "for i, (k, v) in enumerate(mydict.items()):\n",
    "  if i == n: break\n",
    "  print(k,\":\", v)"
   ]
  },
  {
   "cell_type": "code",
   "execution_count": 21,
   "id": "65450992",
   "metadata": {},
   "outputs": [],
   "source": [
    "# NLP for machine learning\n",
    "# https://medium.com/mlearning-ai/fake-news-data-analysis-and-predictions-with-machine-learning-83c2260a0491\n",
    "\n",
    "vectorizer2 = TfidfVectorizer(min_df=2,ngram_range=(2, 3))\n",
    "X_tfidf = vectorizer2.fit_transform(df['title'])\n",
    "Xtfidf2 = vectorizer2.fit_transform(df['text'])"
   ]
  }
 ],
 "metadata": {
  "kernelspec": {
   "display_name": "Python 3 (ipykernel)",
   "language": "python",
   "name": "python3"
  },
  "language_info": {
   "codemirror_mode": {
    "name": "ipython",
    "version": 3
   },
   "file_extension": ".py",
   "mimetype": "text/x-python",
   "name": "python",
   "nbconvert_exporter": "python",
   "pygments_lexer": "ipython3",
   "version": "3.9.7"
  }
 },
 "nbformat": 4,
 "nbformat_minor": 5
}
